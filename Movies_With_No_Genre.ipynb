{
 "cells": [
  {
   "cell_type": "markdown",
   "metadata": {},
   "source": [
    "# Movies withour a Genre\n",
    "\n",
    "In this notebook we will find all the movies that do not have a genre.\n",
    "We will be using PySpark to solve the problem!"
   ]
  },
  {
   "cell_type": "markdown",
   "metadata": {},
   "source": [
    "### Get the data in !\n",
    "\n",
    "The movie genre data is stored in the **data/movies.csv** file.\n",
    "The first thing we need to do is to read the data into Spark."
   ]
  },
  {
   "cell_type": "code",
   "execution_count": 33,
   "metadata": {},
   "outputs": [
    {
     "name": "stdout",
     "output_type": "stream",
     "text": [
      "root\n",
      " |-- movieID: integer (nullable = true)\n",
      " |-- title: string (nullable = true)\n",
      " |-- genres: string (nullable = true)\n",
      "\n",
      "+-------+----------------------------------+-------------------------------------------+\n",
      "|movieID|title                             |genres                                     |\n",
      "+-------+----------------------------------+-------------------------------------------+\n",
      "|1      |Toy Story (1995)                  |Adventure|Animation|Children|Comedy|Fantasy|\n",
      "|2      |Jumanji (1995)                    |Adventure|Children|Fantasy                 |\n",
      "|3      |Grumpier Old Men (1995)           |Comedy|Romance                             |\n",
      "|4      |Waiting to Exhale (1995)          |Comedy|Drama|Romance                       |\n",
      "|5      |Father of the Bride Part II (1995)|Comedy                                     |\n",
      "|6      |Heat (1995)                       |Action|Crime|Thriller                      |\n",
      "|7      |Sabrina (1995)                    |Comedy|Romance                             |\n",
      "|8      |Tom and Huck (1995)               |Adventure|Children                         |\n",
      "|9      |Sudden Death (1995)               |Action                                     |\n",
      "|10     |GoldenEye (1995)                  |Action|Adventure|Thriller                  |\n",
      "+-------+----------------------------------+-------------------------------------------+\n",
      "only showing top 10 rows\n",
      "\n"
     ]
    }
   ],
   "source": [
    "# Dependencies\n",
    "from pyspark.sql import SparkSession\n",
    "from pyspark.sql import functions as f\n",
    "\n",
    "# Setting a Spark Session\n",
    "spark = SparkSession.builder.appName(\"Movies_With_No_Genre\").getOrCreate()\n",
    "\n",
    "# Reading the data\n",
    "movies = spark.read.csv(\n",
    "    path = \"./data/movies.csv\",\n",
    "    sep = \",\",\n",
    "    header = True,\n",
    "    quote = '\"',\n",
    "    schema = \"movieID INT, title STRING, genres STRING\"\n",
    ")\n",
    "\n",
    "# Let's check our data\n",
    "movies.printSchema()\n",
    "movies.show(n=10, truncate=False, vertical=False)"
   ]
  },
  {
   "cell_type": "markdown",
   "metadata": {},
   "source": [
    "### Exploring the data\n",
    "\n",
    "Ok. Cool, we've got our data in. However before we will be able to solve our problem we need to apply a couple of transformations. For example, genres are listed using a pipeline separator, and in order to be able to proceed with the analysis we need to transform our dataset to the dataset of the form (movieID, title, genre)."
   ]
  },
  {
   "cell_type": "code",
   "execution_count": 34,
   "metadata": {},
   "outputs": [
    {
     "name": "stdout",
     "output_type": "stream",
     "text": [
      "+-------+----------------+---------+\n",
      "|movieId|           title|    genre|\n",
      "+-------+----------------+---------+\n",
      "|      1|Toy Story (1995)|Adventure|\n",
      "|      1|Toy Story (1995)|Animation|\n",
      "|      1|Toy Story (1995)| Children|\n",
      "|      1|Toy Story (1995)|   Comedy|\n",
      "|      1|Toy Story (1995)|  Fantasy|\n",
      "+-------+----------------+---------+\n",
      "only showing top 5 rows\n",
      "\n"
     ]
    }
   ],
   "source": [
    "# Transforming the data\n",
    "movie_genre = (\n",
    "    (\n",
    "        movies\n",
    "            .withColumn(\"genres_array\", f.split(\"genres\", \"\\|\"))\n",
    "            .withColumn(\"genre\", f.explode(\"genres_array\"))\n",
    "    )\n",
    "    .select(\"movieId\", \"title\", \"genre\")\n",
    ")\n",
    "\n",
    "# Let's check what is in our dataset\n",
    "movie_genre.show(5)"
   ]
  },
  {
   "cell_type": "code",
   "execution_count": 56,
   "metadata": {},
   "outputs": [
    {
     "name": "stdout",
     "output_type": "stream",
     "text": [
      "We have 20 genres available in the database.\n",
      "+------------------+\n",
      "|genre             |\n",
      "+------------------+\n",
      "|(no genres listed)|\n",
      "|Action            |\n",
      "|Adventure         |\n",
      "|Animation         |\n",
      "|Children          |\n",
      "|Comedy            |\n",
      "|Crime             |\n",
      "|Documentary       |\n",
      "|Drama             |\n",
      "|Fantasy           |\n",
      "|Film-Noir         |\n",
      "|Horror            |\n",
      "|IMAX              |\n",
      "|Musical           |\n",
      "|Mystery           |\n",
      "|Romance           |\n",
      "|Sci-Fi            |\n",
      "|Thriller          |\n",
      "|War               |\n",
      "|Western           |\n",
      "+------------------+\n",
      "\n"
     ]
    }
   ],
   "source": [
    "# Next we want to get all the genres available\n",
    "available_genres = movie_genre.select(\"genre\").distinct()\n",
    "# Number of available genres\n",
    "nGenres = available_genres.count()\n",
    "\n",
    "# Display available genres\n",
    "print(\"We have {0} genres available in the database.\".format(nGenres))\n",
    "available_genres.sort(\"genre\").show(n=nGenres, truncate=False)"
   ]
  },
  {
   "cell_type": "markdown",
   "metadata": {},
   "source": [
    "### Getting a result\n",
    "\n",
    "Cool! We have a genre named \"(no genres listed)\". That is what we are after! To finalize our solution we need to extract a allthe movies with \"(no genres listed)\", and if our resulting dataset is not too huge, we will print it."
   ]
  },
  {
   "cell_type": "code",
   "execution_count": 63,
   "metadata": {},
   "outputs": [
    {
     "name": "stdout",
     "output_type": "stream",
     "text": [
      "We have got 34 movies without a genre in our dataset.\n",
      "+-------+----------------------------------------------------------------------------------+------------------+\n",
      "|movieId|title                                                                             |genre             |\n",
      "+-------+----------------------------------------------------------------------------------+------------------+\n",
      "|182727 |A Christmas Story Live! (2017)                                                    |(no genres listed)|\n",
      "|149330 |A Cosmic Christmas (1977)                                                         |(no genres listed)|\n",
      "|159779 |A Midsummer Night's Dream (2016)                                                  |(no genres listed)|\n",
      "|159161 |Ali Wong: Baby Cobra (2016)                                                       |(no genres listed)|\n",
      "|122888 |Ben-hur (2016)                                                                    |(no genres listed)|\n",
      "|176601 |Black Mirror                                                                      |(no genres listed)|\n",
      "|171495 |Cosmos                                                                            |(no genres listed)|\n",
      "|171749 |Death Note: Desu nôto (2006–2007)                                                 |(no genres listed)|\n",
      "|165489 |Ethel & Ernest (2016)                                                             |(no genres listed)|\n",
      "|171891 |Generation Iron 2                                                                 |(no genres listed)|\n",
      "|152037 |Grease Live (2016)                                                                |(no genres listed)|\n",
      "|141866 |Green Room (2015)                                                                 |(no genres listed)|\n",
      "|141131 |Guardians (2016)                                                                  |(no genres listed)|\n",
      "|143410 |Hyena Road                                                                        |(no genres listed)|\n",
      "|114335 |La cravate (1957)                                                                 |(no genres listed)|\n",
      "|169034 |Lemonade (2016)                                                                   |(no genres listed)|\n",
      "|132084 |Let It Be Me (1995)                                                               |(no genres listed)|\n",
      "|171631 |Maria Bamford: Old Baby                                                           |(no genres listed)|\n",
      "|155589 |Noin 7 veljestä (1968)                                                            |(no genres listed)|\n",
      "|156605 |Paterson                                                                          |(no genres listed)|\n",
      "|122896 |Pirates of the Caribbean: Dead Men Tell No Tales (2017)                           |(no genres listed)|\n",
      "|181719 |Serving in Silence: The Margarethe Cammermeyer Story (1995)                       |(no genres listed)|\n",
      "|129250 |Superfast! (2015)                                                                 |(no genres listed)|\n",
      "|172497 |T2 3-D: Battle Across Time (1996)                                                 |(no genres listed)|\n",
      "|147250 |The Adventures of Sherlock Holmes and Doctor Watson                               |(no genres listed)|\n",
      "|173535 |The Adventures of Sherlock Holmes and Doctor Watson: The Hunt for the Tiger (1980)|(no genres listed)|\n",
      "|142456 |The Brand New Testament (2015)                                                    |(no genres listed)|\n",
      "|161008 |The Forbidden Dance (1990)                                                        |(no genres listed)|\n",
      "|172591 |The Godfather Trilogy: 1972-1990 (1992)                                           |(no genres listed)|\n",
      "|167570 |The OA                                                                            |(no genres listed)|\n",
      "|174403 |The Putin Interviews (2017)                                                       |(no genres listed)|\n",
      "|181413 |Too Funny to Fail: The Life and Death of The Dana Carvey Show (2017)              |(no genres listed)|\n",
      "|134861 |Trevor Noah: African American (2013)                                              |(no genres listed)|\n",
      "|166024 |Whiplash (2013)                                                                   |(no genres listed)|\n",
      "+-------+----------------------------------------------------------------------------------+------------------+\n",
      "\n"
     ]
    }
   ],
   "source": [
    "# Movies without a genre\n",
    "movies_without_genre = movie_genre.where(\"genre = '(no genres listed)'\")\n",
    "# If the number of movies with no genre is less than 100, then we will print it\n",
    "nMoviesWithoutGenre = movies_without_genre.count()\n",
    "print(\"We have got {} movies without a genre in our dataset.\".format(nMoviesWithoutGenre))\n",
    "if nMoviesWithoutGenre < 100:\n",
    "    movies_without_genre.sort(\"title\").show(n=nMoviesWithoutGenre, truncate=False)"
   ]
  }
 ],
 "metadata": {
  "kernelspec": {
   "display_name": "Python 3",
   "language": "python",
   "name": "python3"
  },
  "language_info": {
   "codemirror_mode": {
    "name": "ipython",
    "version": 3
   },
   "file_extension": ".py",
   "mimetype": "text/x-python",
   "name": "python",
   "nbconvert_exporter": "python",
   "pygments_lexer": "ipython3",
   "version": "3.7.3"
  }
 },
 "nbformat": 4,
 "nbformat_minor": 2
}

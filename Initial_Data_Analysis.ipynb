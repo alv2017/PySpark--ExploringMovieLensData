{
 "cells": [
  {
   "cell_type": "markdown",
   "metadata": {},
   "source": [
    "# MovieLens Data: Initial Data Analysis\n",
    "\n",
    "In this notebook we will explore the basic properties of MovieLens datasets.\n",
    "\n",
    "The datasets we are going to work with is a development dataset taken from MovieLens movie recommendation service. It contains 100836 movie ratings and free text tagging by 610 users. The rating and tagging were performed between March 29, 1996 up to September, 24, 2018.\n",
    "\n",
    "In this section we will present the data describing the datasets, and the links between the datasets. We will also comput a basic statistics for the MovieLens datasets. The data provided in this section will be useful for further analysis.\n",
    "\n",
    "We will be using Spark for the exploratory data analysis."
   ]
  },
  {
   "cell_type": "markdown",
   "metadata": {},
   "source": [
    "### 1. Datasets Description\n",
    "\n",
    "The MovieLens dataset contains the following files:\n",
    "\n",
    "- links.csv\n",
    "- movies.csv \n",
    "- ratings.csv\n",
    "- tag.csv\n",
    "\n",
    "Let's explore what is in the each file."
   ]
  },
  {
   "cell_type": "code",
   "execution_count": 62,
   "metadata": {},
   "outputs": [],
   "source": [
    "# Project Dependencies\n",
    "from pyspark.sql import SparkSession\n",
    "from pyspark.sql import functions as f\n",
    "\n",
    "# Setting a Spark Session\n",
    "spark = SparkSession.builder.appName(\"Movies_With_No_Genre\").getOrCreate()\n"
   ]
  },
  {
   "cell_type": "markdown",
   "metadata": {},
   "source": [
    "#### movies.csv dataset"
   ]
  },
  {
   "cell_type": "code",
   "execution_count": 63,
   "metadata": {},
   "outputs": [
    {
     "name": "stdout",
     "output_type": "stream",
     "text": [
      "root\n",
      " |-- movieID: integer (nullable = true)\n",
      " |-- title: string (nullable = true)\n",
      " |-- genres: string (nullable = true)\n",
      "\n",
      "+-------+----------------------------------+-------------------------------------------+\n",
      "|movieID|title                             |genres                                     |\n",
      "+-------+----------------------------------+-------------------------------------------+\n",
      "|1      |Toy Story (1995)                  |Adventure|Animation|Children|Comedy|Fantasy|\n",
      "|2      |Jumanji (1995)                    |Adventure|Children|Fantasy                 |\n",
      "|3      |Grumpier Old Men (1995)           |Comedy|Romance                             |\n",
      "|4      |Waiting to Exhale (1995)          |Comedy|Drama|Romance                       |\n",
      "|5      |Father of the Bride Part II (1995)|Comedy                                     |\n",
      "|6      |Heat (1995)                       |Action|Crime|Thriller                      |\n",
      "|7      |Sabrina (1995)                    |Comedy|Romance                             |\n",
      "|8      |Tom and Huck (1995)               |Adventure|Children                         |\n",
      "|9      |Sudden Death (1995)               |Action                                     |\n",
      "|10     |GoldenEye (1995)                  |Action|Adventure|Thriller                  |\n",
      "+-------+----------------------------------+-------------------------------------------+\n",
      "only showing top 10 rows\n",
      "\n"
     ]
    }
   ],
   "source": [
    "# movies.csv file\n",
    "\n",
    "movies = spark.read.csv(\n",
    "    path = \"./data/movies.csv\",\n",
    "    sep = \",\",\n",
    "    header = True,\n",
    "    quote = '\"',\n",
    "    schema = \"movieID INT, title STRING, genres STRING\"\n",
    ")\n",
    "movies.printSchema()\n",
    "movies.show(n=10, truncate = False)"
   ]
  },
  {
   "cell_type": "markdown",
   "metadata": {},
   "source": [
    "From the results above we can see that the **movies.csv** file contains\n",
    "\n",
    "1. **movieID** - movie ID;\n",
    "2. **title** - movie title;\n",
    "3. **genres** - a pipe-separated list of genres that the movie was assigned.\n",
    "\n"
   ]
  },
  {
   "cell_type": "markdown",
   "metadata": {},
   "source": [
    "#### ratings.csv dataset"
   ]
  },
  {
   "cell_type": "code",
   "execution_count": 64,
   "metadata": {},
   "outputs": [
    {
     "name": "stdout",
     "output_type": "stream",
     "text": [
      "root\n",
      " |-- userId: integer (nullable = true)\n",
      " |-- movieId: integer (nullable = true)\n",
      " |-- rating: double (nullable = true)\n",
      " |-- timestamp: timestamp (nullable = true)\n",
      "\n",
      "+------+-------+------+-------------------+\n",
      "|userId|movieId|rating|          timestamp|\n",
      "+------+-------+------+-------------------+\n",
      "|     1|      1|   4.0|2000-07-30 18:45:03|\n",
      "|     1|      3|   4.0|2000-07-30 18:20:47|\n",
      "|     1|      6|   4.0|2000-07-30 18:37:04|\n",
      "|     1|     47|   5.0|2000-07-30 19:03:35|\n",
      "|     1|     50|   5.0|2000-07-30 18:48:51|\n",
      "|     1|     70|   3.0|2000-07-30 18:40:00|\n",
      "|     1|    101|   5.0|2000-07-30 18:14:28|\n",
      "|     1|    110|   4.0|2000-07-30 18:36:16|\n",
      "|     1|    151|   5.0|2000-07-30 19:07:21|\n",
      "|     1|    157|   5.0|2000-07-30 19:08:20|\n",
      "+------+-------+------+-------------------+\n",
      "only showing top 10 rows\n",
      "\n"
     ]
    }
   ],
   "source": [
    "# ratings.csv file\n",
    "\n",
    "ratings = (\n",
    "    spark.read.csv(\n",
    "        path=\"./data/ratings.csv\",\n",
    "        sep=\",\",\n",
    "        header=True,\n",
    "        quote='\"',\n",
    "        schema=\"userId INT, movieId INT, rating DOUBLE, timestamp INT\",\n",
    "    )\n",
    "    .withColumn(\"timestamp\", f.to_timestamp(f.from_unixtime(\"timestamp\")))\n",
    ")\n",
    "\n",
    "ratings.printSchema()\n",
    "ratings.show(10)"
   ]
  },
  {
   "cell_type": "markdown",
   "metadata": {},
   "source": [
    "From the result above we can see that the **ratings.csv** file contains the following columns\n",
    "\n",
    "1. **userID** - User ID\n",
    "2. **movieID** - Movie ID\n",
    "3. **rating** - Rating\n",
    "4. **timestamp** - Timestamp\n",
    "\n",
    "The ratings.csv file contains a movie rating provided by a user on a certain date."
   ]
  },
  {
   "cell_type": "markdown",
   "metadata": {},
   "source": [
    "#### tags.csv dataset"
   ]
  },
  {
   "cell_type": "code",
   "execution_count": 65,
   "metadata": {},
   "outputs": [
    {
     "name": "stdout",
     "output_type": "stream",
     "text": [
      "root\n",
      " |-- userId: integer (nullable = true)\n",
      " |-- movieId: integer (nullable = true)\n",
      " |-- tag: string (nullable = true)\n",
      " |-- timestamp: timestamp (nullable = true)\n",
      "\n",
      "+------+-------+-----------------+-------------------+\n",
      "|userId|movieId|              tag|          timestamp|\n",
      "+------+-------+-----------------+-------------------+\n",
      "|     2|  60756|            funny|2015-10-24 19:29:54|\n",
      "|     2|  60756|  Highly quotable|2015-10-24 19:29:56|\n",
      "|     2|  60756|     will ferrell|2015-10-24 19:29:52|\n",
      "|     2|  89774|     Boxing story|2015-10-24 19:33:27|\n",
      "|     2|  89774|              MMA|2015-10-24 19:33:20|\n",
      "|     2|  89774|        Tom Hardy|2015-10-24 19:33:25|\n",
      "|     2| 106782|            drugs|2015-10-24 19:30:54|\n",
      "|     2| 106782|Leonardo DiCaprio|2015-10-24 19:30:51|\n",
      "|     2| 106782|  Martin Scorsese|2015-10-24 19:30:56|\n",
      "|     7|  48516|     way too long|2007-01-25 01:08:45|\n",
      "+------+-------+-----------------+-------------------+\n",
      "only showing top 10 rows\n",
      "\n"
     ]
    }
   ],
   "source": [
    "# tags.csv file\n",
    "\n",
    "tags = (\n",
    "    spark.read.csv(\n",
    "        path=\"./data/tags.csv\",\n",
    "        sep=\",\",\n",
    "        header=True,\n",
    "        quote='\"',\n",
    "        schema=\"userId INT, movieId INT, tag STRING, timestamp INT\",\n",
    "    )\n",
    "    .withColumn(\"timestamp\", f.to_timestamp(f.from_unixtime(\"timestamp\")))\n",
    ")\n",
    "\n",
    "tags.printSchema()\n",
    "tags.show(10)"
   ]
  },
  {
   "cell_type": "markdown",
   "metadata": {},
   "source": [
    "The file **tags.csv** contains the following fields:\n",
    "\n",
    "1. **userID** - User ID;\n",
    "2. **movieID** - Movie ID;\n",
    "3. **tag** - Movie Tag\n",
    "4. **timestamp** - the time when tag was assigned\n",
    "\n",
    "It contains tags assigned by a user to a movie. The user can assign multiple tags to one movie."
   ]
  },
  {
   "cell_type": "markdown",
   "metadata": {},
   "source": [
    "#### links.csv dataset\n",
    "\n",
    "This dataset links the movie in the MovieLens database to the same movie int IMDB and TMDB databases."
   ]
  },
  {
   "cell_type": "code",
   "execution_count": 66,
   "metadata": {},
   "outputs": [
    {
     "name": "stdout",
     "output_type": "stream",
     "text": [
      "root\n",
      " |-- movieID: integer (nullable = true)\n",
      " |-- imdbID: integer (nullable = true)\n",
      " |-- tmdbID: integer (nullable = true)\n",
      "\n",
      "+-------+------+------+\n",
      "|movieID|imdbID|tmdbID|\n",
      "+-------+------+------+\n",
      "|1      |114709|862   |\n",
      "|2      |113497|8844  |\n",
      "|3      |113228|15602 |\n",
      "|4      |114885|31357 |\n",
      "|5      |113041|11862 |\n",
      "|6      |113277|949   |\n",
      "|7      |114319|11860 |\n",
      "|8      |112302|45325 |\n",
      "|9      |114576|9091  |\n",
      "|10     |113189|710   |\n",
      "+-------+------+------+\n",
      "only showing top 10 rows\n",
      "\n"
     ]
    }
   ],
   "source": [
    "# links.csv file\n",
    "\n",
    "links = spark.read.csv(\n",
    "    path = \"./data/links.csv\",\n",
    "    sep = \",\",\n",
    "    header = True,\n",
    "    quote = '\"',\n",
    "    schema = \"movieID INT, imdbID INT, tmdbID INT\"\n",
    ")\n",
    "links.printSchema()\n",
    "links.show(n=10, truncate = False)"
   ]
  },
  {
   "cell_type": "markdown",
   "metadata": {},
   "source": [
    "The **links.csv** file contains the following columns:\n",
    "\n",
    "1. movieID - Movie ID;\n",
    "2. imdbID - Movie ID in IMDB database: https://www.imdb.com/\n",
    "3. tmdbID - Movie ID in TMDB database: https://www.themoviedb.org"
   ]
  },
  {
   "cell_type": "markdown",
   "metadata": {},
   "source": [
    "### 2. MovieLens Dataset Statistics"
   ]
  },
  {
   "cell_type": "code",
   "execution_count": 68,
   "metadata": {},
   "outputs": [
    {
     "name": "stdout",
     "output_type": "stream",
     "text": [
      "\n",
      "*** MovieLens Dataset Statistics ***\n",
      "\n",
      "Number of movies in the dataset: 9742\n",
      "Number of rated movies: 9724\n",
      "Number of tagged movies: 1572\n",
      "Number of movies linked to IMDB or to TMDB: 9742\n",
      "\n",
      "Number of unique movie genres: 20\n",
      "\n",
      "Number of unique users: 610\n",
      "The dataset contains 100836 user ratings.\n",
      "The dataset contains 3683 unique tags.\n",
      "\n",
      "The first and the last rating timestamps\n",
      "+----------------------+---------------------+\n",
      "|First Rating Timestamp|Last Rating Timestamp|\n",
      "+----------------------+---------------------+\n",
      "|   1996-03-29 18:36:55|  2018-09-24 14:27:30|\n",
      "+----------------------+---------------------+\n",
      "\n",
      "\n",
      "The first and the last tag timestamps\n",
      "+-------------------+-------------------+\n",
      "|Firts Tag Timestamp| Last Tag Timestamp|\n",
      "+-------------------+-------------------+\n",
      "|2006-01-13 19:09:12|2018-09-16 11:50:03|\n",
      "+-------------------+-------------------+\n",
      "\n"
     ]
    }
   ],
   "source": [
    "print(\"\\n*** MovieLens Dataset Statistics ***\\n\")\n",
    "\n",
    "# Number of Movies in the Dataset\n",
    "nMovies = movies.count()\n",
    "print(\"Number of movies in the dataset: {0}\".format(nMovies))\n",
    " \n",
    "# Number of Rated Movies\n",
    "nRated = ratings.select(\"movieID\").distinct().count()\n",
    "print(\"Number of rated movies: {0}\".format(nRated))\n",
    "\n",
    "# Number of Tagged Movies\n",
    "nTagged = tags.select(\"movieID\").distinct().count()\n",
    "print(\"Number of tagged movies: {0}\".format(nTagged))\n",
    "\n",
    "# Number of Linked Movies\n",
    "nLinked = links.select(\"movieID\").distinct().count()\n",
    "print(\"Number of movies linked to IMDB or to TMDB: {0}\".format(nLinked))\n",
    "\n",
    "print(\"\")\n",
    "\n",
    "# Number of Movie Genres\n",
    "nGenres = (\n",
    "    (\n",
    "        movies\n",
    "            .withColumn(\"genres_array\", f.split(\"genres\", \"\\|\"))\n",
    "            .withColumn(\"genre\", f.explode(\"genres_array\"))\n",
    "    )\n",
    "    .select(\"genre\").distinct()\n",
    ").count()\n",
    "print(\"Number of unique movie genres: {0}\".format(nGenres))\n",
    "\n",
    "print(\"\")\n",
    "\n",
    "# Number of users\n",
    "nUsers = ratings.select(\"userID\").distinct().count()\n",
    "print(\"Number of unique users: {0}\".format(nUsers))\n",
    "\n",
    "# Number of user ratings\n",
    "nRatings = ratings.count()\n",
    "print(\"The dataset contains {0} user ratings.\".format(nRatings))\n",
    "\n",
    "# Number of user tags\n",
    "nTags = tags.count()\n",
    "print(\"The dataset contains {0} unique tags.\".format(nTags))\n",
    "\n",
    "print(\"\")\n",
    "\n",
    "# The date of the first and the last ratings\n",
    "print(\"The first and the last rating timestamps\")\n",
    "ratings.agg(\n",
    "    f.min(\"timestamp\").alias(\"First Rating Timestamp\"),\n",
    "    f.max(\"timestamp\").alias(\"Last Rating Timestamp\")\n",
    ").show()\n",
    "print(\"\")\n",
    "\n",
    "# The date of the first and the last tag\n",
    "print(\"The first and the last tag timestamps\")\n",
    "tags.agg(\n",
    "    f.min(\"timestamp\").alias(\"Firts Tag Timestamp\"),\n",
    "    f.max(\"timestamp\").alias(\"Last Tag Timestamp\")\n",
    ").show()"
   ]
  },
  {
   "cell_type": "code",
   "execution_count": null,
   "metadata": {},
   "outputs": [],
   "source": []
  }
 ],
 "metadata": {
  "kernelspec": {
   "display_name": "Python 3",
   "language": "python",
   "name": "python3"
  },
  "language_info": {
   "codemirror_mode": {
    "name": "ipython",
    "version": 3
   },
   "file_extension": ".py",
   "mimetype": "text/x-python",
   "name": "python",
   "nbconvert_exporter": "python",
   "pygments_lexer": "ipython3",
   "version": "3.7.3"
  }
 },
 "nbformat": 4,
 "nbformat_minor": 2
}

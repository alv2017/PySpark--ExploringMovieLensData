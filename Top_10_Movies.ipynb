{
 "cells": [
  {
   "cell_type": "markdown",
   "metadata": {},
   "source": [
    "# Top 10 Movies\n",
    "\n",
    "In this notebook we are going to find top 10 movies that were rated by the majority of the users.\n",
    "To accomplish this task we are going to need 2 data files:\n",
    "\n",
    "- **movies.csv**\n",
    "- **ratings.csv**\n",
    "\n",
    "Our output dataframe will contain:\n",
    "\n",
    "- **movieID**\n",
    "- **title**\n",
    "- **number_of_ratings**\n",
    "- **ratings_sum**\n",
    "- **average_rating**\n",
    "\n",
    "... and it is going to contain 10 records in total, i.e. top 10 most rated movies in the dataset."
   ]
  },
  {
   "cell_type": "code",
   "execution_count": 24,
   "metadata": {},
   "outputs": [],
   "source": [
    "# Project Dependencies\n",
    "from pyspark.sql import SparkSession\n",
    "from pyspark.sql import functions as f\n",
    "\n",
    "# Setting a Spark Session\n",
    "spark = SparkSession.builder.appName(\"Movies_With_No_Genre\").getOrCreate()"
   ]
  },
  {
   "cell_type": "code",
   "execution_count": 25,
   "metadata": {},
   "outputs": [
    {
     "name": "stdout",
     "output_type": "stream",
     "text": [
      "\n",
      "*** Top 10 Most Rated Movies ***\n",
      "\n",
      "+-------+-----------------------------------------+---------------+-----------+-----------------+\n",
      "|movieID|title                                    |number_of_rates|ratings_sum|average_rating   |\n",
      "+-------+-----------------------------------------+---------------+-----------+-----------------+\n",
      "|356    |Forrest Gump (1994)                      |329            |1370.0     |4.164133738601824|\n",
      "|318    |Shawshank Redemption, The (1994)         |317            |1404.0     |4.429022082018927|\n",
      "|296    |Pulp Fiction (1994)                      |307            |1288.5     |4.197068403908795|\n",
      "|593    |Silence of the Lambs, The (1991)         |279            |1161.0     |4.161290322580645|\n",
      "|2571   |Matrix, The (1999)                       |278            |1165.5     |4.192446043165468|\n",
      "|260    |Star Wars: Episode IV - A New Hope (1977)|251            |1062.0     |4.231075697211155|\n",
      "|480    |Jurassic Park (1993)                     |238            |892.5      |3.75             |\n",
      "|110    |Braveheart (1995)                        |237            |955.5      |4.031645569620253|\n",
      "|589    |Terminator 2: Judgment Day (1991)        |224            |889.5      |3.970982142857143|\n",
      "|527    |Schindler's List (1993)                  |220            |929.5      |4.225            |\n",
      "+-------+-----------------------------------------+---------------+-----------+-----------------+\n",
      "\n"
     ]
    }
   ],
   "source": [
    "# Reading movies.csv data\n",
    "\n",
    "movies = spark.read.csv(\n",
    "    path = \"./data/movies.csv\",\n",
    "    sep = \",\",\n",
    "    header = True,\n",
    "    quote = '\"',\n",
    "    schema = \"movieID INT, title STRING, genres STRING\"\n",
    ")\n",
    "\n",
    "# Reading ratings.csv data\n",
    "ratings = (\n",
    "    spark.read.csv(\n",
    "        path=\"./data/ratings.csv\",\n",
    "        sep=\",\",\n",
    "        header=True,\n",
    "        quote='\"',\n",
    "        schema=\"userId INT, movieId INT, rating DOUBLE, timestamp INT\",\n",
    "    )\n",
    "    .withColumn(\"timestamp\", f.to_timestamp(f.from_unixtime(\"timestamp\")))\n",
    ")\n",
    "\n",
    "# Top 10 Most Rated Movies\n",
    "top_10_rated_movies = (\n",
    "    (\n",
    "      ratings\n",
    "        .groupBy(\"movieID\")\n",
    "        .agg(\n",
    "            f.count(\"rating\").alias(\"number_of_rates\"),\n",
    "            f.sum(\"rating\").alias(\"ratings_sum\"),\n",
    "            f.avg(\"rating\").alias(\"average_rating\")\n",
    "        )   \n",
    "        .orderBy(\"number_of_rates\", ascending = False)\n",
    "    )\n",
    "    .join(movies, [\"movieID\"], \"left\")\n",
    "    .select(\"movieID\", \"title\", \"number_of_rates\", \"ratings_sum\", \"average_rating\")\n",
    ").limit(10)\n",
    "\n",
    "print(\"\\n*** Top 10 Most Rated Movies ***\\n\")\n",
    "top_10_rated_movies.show(truncate = False)"
   ]
  },
  {
   "cell_type": "markdown",
   "metadata": {},
   "source": [
    "We are all done!\n",
    "\n",
    "Reference notebook: Initial_Data_Analysis.ipynb"
   ]
  }
 ],
 "metadata": {
  "kernelspec": {
   "display_name": "Python 3",
   "language": "python",
   "name": "python3"
  },
  "language_info": {
   "codemirror_mode": {
    "name": "ipython",
    "version": 3
   },
   "file_extension": ".py",
   "mimetype": "text/x-python",
   "name": "python",
   "nbconvert_exporter": "python",
   "pygments_lexer": "ipython3",
   "version": "3.7.3"
  }
 },
 "nbformat": 4,
 "nbformat_minor": 2
}
